{
  "nbformat": 4,
  "nbformat_minor": 0,
  "metadata": {
    "colab": {
      "name": "Colab's New Code Editor",
      "provenance": [],
      "collapsed_sections": [],
      "toc_visible": true,
      "include_colab_link": true
    },
    "kernelspec": {
      "display_name": "Python 3",
      "name": "python3"
    }
  },
  "cells": [
    {
      "cell_type": "markdown",
      "metadata": {
        "id": "view-in-github",
        "colab_type": "text"
      },
      "source": [
        "<a href=\"https://colab.research.google.com/github/qinyufm/deeplearning-models/blob/master/LSTM.ipynb\" target=\"_parent\"><img src=\"https://colab.research.google.com/assets/colab-badge.svg\" alt=\"Open In Colab\"/></a>"
      ]
    },
    {
      "cell_type": "markdown",
      "metadata": {
        "colab_type": "text",
        "id": "aRDUGd13kUFu"
      },
      "source": [
        "# LSTM\n"
      ]
    },
    {
      "cell_type": "code",
      "metadata": {
        "id": "-uTOYW1P0fR3",
        "colab_type": "code",
        "outputId": "d7168878-266b-47d8-f20a-e5701fa16b8e",
        "colab": {
          "base_uri": "https://localhost:8080/",
          "height": 81
        }
      },
      "source": [
        "import math\n",
        "import pandas_datareader as web\n",
        "import numpy as np\n",
        "import pandas as pd\n",
        "from sklearn.preprocessing import MinMaxScaler\n",
        "from keras.models import Sequential\n",
        "from keras.layers import Dense, LSTM\n",
        "import matplotlib.pyplot as plt\n",
        "plt.style.use('fivethirtyeight')"
      ],
      "execution_count": 1,
      "outputs": [
        {
          "output_type": "stream",
          "text": [
            "Using TensorFlow backend.\n"
          ],
          "name": "stderr"
        },
        {
          "output_type": "display_data",
          "data": {
            "text/html": [
              "<p style=\"color: red;\">\n",
              "The default version of TensorFlow in Colab will soon switch to TensorFlow 2.x.<br>\n",
              "We recommend you <a href=\"https://www.tensorflow.org/guide/migrate\" target=\"_blank\">upgrade</a> now \n",
              "or ensure your notebook will continue to use TensorFlow 1.x via the <code>%tensorflow_version 1.x</code> magic:\n",
              "<a href=\"https://colab.research.google.com/notebooks/tensorflow_version.ipynb\" target=\"_blank\">more info</a>.</p>\n"
            ],
            "text/plain": [
              "<IPython.core.display.HTML object>"
            ]
          },
          "metadata": {
            "tags": []
          }
        }
      ]
    },
    {
      "cell_type": "markdown",
      "metadata": {
        "colab_type": "text",
        "id": "LhDiAMaaAnQF"
      },
      "source": [
        "## Get the data"
      ]
    },
    {
      "cell_type": "code",
      "metadata": {
        "id": "Yb7LgH6N04pS",
        "colab_type": "code",
        "outputId": "38acd0b3-24be-4af1-db16-a207f43c118e",
        "colab": {
          "base_uri": "https://localhost:8080/",
          "height": 431
        }
      },
      "source": [
        "df = web.DataReader('MRK', data_source='yahoo', start='2018-01-01', end='2020-02-11')\n",
        "#Show the data\n",
        "df"
      ],
      "execution_count": 3,
      "outputs": [
        {
          "output_type": "execute_result",
          "data": {
            "text/html": [
              "<div>\n",
              "<style scoped>\n",
              "    .dataframe tbody tr th:only-of-type {\n",
              "        vertical-align: middle;\n",
              "    }\n",
              "\n",
              "    .dataframe tbody tr th {\n",
              "        vertical-align: top;\n",
              "    }\n",
              "\n",
              "    .dataframe thead th {\n",
              "        text-align: right;\n",
              "    }\n",
              "</style>\n",
              "<table border=\"1\" class=\"dataframe\">\n",
              "  <thead>\n",
              "    <tr style=\"text-align: right;\">\n",
              "      <th></th>\n",
              "      <th>High</th>\n",
              "      <th>Low</th>\n",
              "      <th>Open</th>\n",
              "      <th>Close</th>\n",
              "      <th>Volume</th>\n",
              "      <th>Adj Close</th>\n",
              "    </tr>\n",
              "    <tr>\n",
              "      <th>Date</th>\n",
              "      <th></th>\n",
              "      <th></th>\n",
              "      <th></th>\n",
              "      <th></th>\n",
              "      <th></th>\n",
              "      <th></th>\n",
              "    </tr>\n",
              "  </thead>\n",
              "  <tbody>\n",
              "    <tr>\n",
              "      <th>2018-01-02</th>\n",
              "      <td>81.120003</td>\n",
              "      <td>80.209999</td>\n",
              "      <td>81.120003</td>\n",
              "      <td>80.620003</td>\n",
              "      <td>1573700.0</td>\n",
              "      <td>77.166901</td>\n",
              "    </tr>\n",
              "    <tr>\n",
              "      <th>2018-01-03</th>\n",
              "      <td>80.980003</td>\n",
              "      <td>79.269997</td>\n",
              "      <td>80.599998</td>\n",
              "      <td>79.709999</td>\n",
              "      <td>2403200.0</td>\n",
              "      <td>76.295876</td>\n",
              "    </tr>\n",
              "    <tr>\n",
              "      <th>2018-01-04</th>\n",
              "      <td>80.790001</td>\n",
              "      <td>79.470001</td>\n",
              "      <td>79.739998</td>\n",
              "      <td>80.220001</td>\n",
              "      <td>2848200.0</td>\n",
              "      <td>76.784019</td>\n",
              "    </tr>\n",
              "    <tr>\n",
              "      <th>2018-01-05</th>\n",
              "      <td>80.910004</td>\n",
              "      <td>80.169998</td>\n",
              "      <td>80.699997</td>\n",
              "      <td>80.830002</td>\n",
              "      <td>2079900.0</td>\n",
              "      <td>77.367897</td>\n",
              "    </tr>\n",
              "    <tr>\n",
              "      <th>2018-01-08</th>\n",
              "      <td>81.970001</td>\n",
              "      <td>80.830002</td>\n",
              "      <td>80.900002</td>\n",
              "      <td>81.709999</td>\n",
              "      <td>1472100.0</td>\n",
              "      <td>78.210205</td>\n",
              "    </tr>\n",
              "    <tr>\n",
              "      <th>...</th>\n",
              "      <td>...</td>\n",
              "      <td>...</td>\n",
              "      <td>...</td>\n",
              "      <td>...</td>\n",
              "      <td>...</td>\n",
              "      <td>...</td>\n",
              "    </tr>\n",
              "    <tr>\n",
              "      <th>2020-02-05</th>\n",
              "      <td>84.639999</td>\n",
              "      <td>83.800003</td>\n",
              "      <td>84.040001</td>\n",
              "      <td>84.110001</td>\n",
              "      <td>2586500.0</td>\n",
              "      <td>84.110001</td>\n",
              "    </tr>\n",
              "    <tr>\n",
              "      <th>2020-02-06</th>\n",
              "      <td>82.150002</td>\n",
              "      <td>78.480003</td>\n",
              "      <td>81.000000</td>\n",
              "      <td>79.769997</td>\n",
              "      <td>7576700.0</td>\n",
              "      <td>79.769997</td>\n",
              "    </tr>\n",
              "    <tr>\n",
              "      <th>2020-02-07</th>\n",
              "      <td>81.269997</td>\n",
              "      <td>79.769997</td>\n",
              "      <td>79.769997</td>\n",
              "      <td>80.349998</td>\n",
              "      <td>3268900.0</td>\n",
              "      <td>80.349998</td>\n",
              "    </tr>\n",
              "    <tr>\n",
              "      <th>2020-02-10</th>\n",
              "      <td>81.949997</td>\n",
              "      <td>80.360001</td>\n",
              "      <td>80.599998</td>\n",
              "      <td>81.580002</td>\n",
              "      <td>3145000.0</td>\n",
              "      <td>81.580002</td>\n",
              "    </tr>\n",
              "    <tr>\n",
              "      <th>2020-02-11</th>\n",
              "      <td>83.489998</td>\n",
              "      <td>80.809998</td>\n",
              "      <td>82.089996</td>\n",
              "      <td>80.989998</td>\n",
              "      <td>3462800.0</td>\n",
              "      <td>80.989998</td>\n",
              "    </tr>\n",
              "  </tbody>\n",
              "</table>\n",
              "<p>531 rows × 6 columns</p>\n",
              "</div>"
            ],
            "text/plain": [
              "                 High        Low       Open      Close     Volume  Adj Close\n",
              "Date                                                                        \n",
              "2018-01-02  81.120003  80.209999  81.120003  80.620003  1573700.0  77.166901\n",
              "2018-01-03  80.980003  79.269997  80.599998  79.709999  2403200.0  76.295876\n",
              "2018-01-04  80.790001  79.470001  79.739998  80.220001  2848200.0  76.784019\n",
              "2018-01-05  80.910004  80.169998  80.699997  80.830002  2079900.0  77.367897\n",
              "2018-01-08  81.970001  80.830002  80.900002  81.709999  1472100.0  78.210205\n",
              "...               ...        ...        ...        ...        ...        ...\n",
              "2020-02-05  84.639999  83.800003  84.040001  84.110001  2586500.0  84.110001\n",
              "2020-02-06  82.150002  78.480003  81.000000  79.769997  7576700.0  79.769997\n",
              "2020-02-07  81.269997  79.769997  79.769997  80.349998  3268900.0  80.349998\n",
              "2020-02-10  81.949997  80.360001  80.599998  81.580002  3145000.0  81.580002\n",
              "2020-02-11  83.489998  80.809998  82.089996  80.989998  3462800.0  80.989998\n",
              "\n",
              "[531 rows x 6 columns]"
            ]
          },
          "metadata": {
            "tags": []
          },
          "execution_count": 3
        }
      ]
    },
    {
      "cell_type": "code",
      "metadata": {
        "id": "Lus8P7pk1LZB",
        "colab_type": "code",
        "outputId": "b84b9933-a4a8-454b-bf70-2c36e803151f",
        "colab": {
          "base_uri": "https://localhost:8080/",
          "height": 684
        }
      },
      "source": [
        "#Visualize the closing price history\n",
        "plt.figure(figsize=(16,8))\n",
        "plt.title('Close Price History')\n",
        "plt.plot(df['Close'])\n",
        "plt.xlabel('Date', fontsize=18)\n",
        "plt.ylabel('Close Price USD ($)', fontsize=18)\n",
        "plt.show()"
      ],
      "execution_count": 4,
      "outputs": [
        {
          "output_type": "stream",
          "text": [
            "/usr/local/lib/python3.6/dist-packages/pandas/plotting/_matplotlib/converter.py:103: FutureWarning: Using an implicitly registered datetime converter for a matplotlib plotting method. The converter was registered by pandas on import. Future versions of pandas will require you to explicitly register matplotlib converters.\n",
            "\n",
            "To register the converters:\n",
            "\t>>> from pandas.plotting import register_matplotlib_converters\n",
            "\t>>> register_matplotlib_converters()\n",
            "  warnings.warn(msg, FutureWarning)\n"
          ],
          "name": "stderr"
        },
        {
          "output_type": "display_data",
          "data": {
            "image/png": "[encoded data removed]",
            "text/plain": [
              "<Figure size 1152x576 with 1 Axes>"
            ]
          },
          "metadata": {
            "tags": []
          }
        }
      ]
    },
    {
      "cell_type": "markdown",
      "metadata": {
        "id": "i6XCsV7J6j8i",
        "colab_type": "text"
      },
      "source": [
        "## Filter the data by close"
      ]
    },
    {
      "cell_type": "code",
      "metadata": {
        "id": "CGSe5NYG1RVf",
        "colab_type": "code",
        "outputId": "9f955feb-c59f-40a7-df95-2ee1180bcd25",
        "colab": {
          "base_uri": "https://localhost:8080/",
          "height": 34
        }
      },
      "source": [
        "#Create a new dataframe with only the 'Close column\n",
        "data = df.filter(['Close'])\n",
        "#Convert the dataframe to a numpy array\n",
        "dataset = data.values\n",
        "#Get the number of rows to train the model on\n",
        "training_data_len = math.ceil( len(dataset) * .8 )\n",
        "\n",
        "training_data_len"
      ],
      "execution_count": 5,
      "outputs": [
        {
          "output_type": "execute_result",
          "data": {
            "text/plain": [
              "425"
            ]
          },
          "metadata": {
            "tags": []
          },
          "execution_count": 5
        }
      ]
    },
    {
      "cell_type": "markdown",
      "metadata": {
        "id": "lCj8E53H6uUj",
        "colab_type": "text"
      },
      "source": [
        "### Scale the data"
      ]
    },
    {
      "cell_type": "code",
      "metadata": {
        "id": "E-f060Qw1hTE",
        "colab_type": "code",
        "colab": {}
      },
      "source": [
        "#Scale the data\n",
        "scaler = MinMaxScaler(feature_range=(0,1))\n",
        "scaled_data = scaler.fit_transform(dataset)"
      ],
      "execution_count": 0,
      "outputs": []
    },
    {
      "cell_type": "markdown",
      "metadata": {
        "id": "G-QLWY0k6yIy",
        "colab_type": "text"
      },
      "source": [
        "### Prepare training"
      ]
    },
    {
      "cell_type": "code",
      "metadata": {
        "id": "l2_28Nq21kQY",
        "colab_type": "code",
        "outputId": "42622e6d-c2d3-4740-b001-de05fd0476d5",
        "colab": {
          "base_uri": "https://localhost:8080/",
          "height": 703
        }
      },
      "source": [
        "#Create the training data set\n",
        "#Create the scaled training data set\n",
        "train_data = scaled_data[0:training_data_len , :]\n",
        "#Split the data into x_train and y_train data sets\n",
        "x_train = []\n",
        "y_train = []\n",
        "for i in range(60, len(train_data)):\n",
        "  x_train.append(train_data[i-60:i, 0])\n",
        "  y_train.append(train_data[i, 0])\n",
        "  if i<= 61:\n",
        "    print(x_train)\n",
        "    print(y_train)\n",
        "    #print()"
      ],
      "execution_count": 7,
      "outputs": [
        {
          "output_type": "stream",
          "text": [
            "[array([0.69936791, 0.67806134, 0.69000238, 0.70428477, 0.72488878,\n",
            "       0.7377664 , 0.70826506, 0.68391477, 0.68251   , 0.65371105,\n",
            "       0.66729105, 0.65862791, 0.6893    , 0.70568953, 0.71130878,\n",
            "       0.67970029, 0.68016866, 0.68883163, 0.65933047, 0.65886209,\n",
            "       0.59377198, 0.58557721, 0.55584169, 0.52634053, 0.54881768,\n",
            "       0.52985244, 0.54249587, 0.56473901, 0.55677826, 0.56146111,\n",
            "       0.58745017, 0.58838674, 0.59143064, 0.59424017, 0.57714826,\n",
            "       0.56052454, 0.56965587, 0.58440645, 0.55748064, 0.55326616,\n",
            "       0.53078901, 0.53617425, 0.53500349, 0.54553977, 0.55677826,\n",
            "       0.56708035, 0.58393826, 0.57410436, 0.5822993 , 0.57667988,\n",
            "       0.53804739, 0.55069064, 0.54741273, 0.54483721, 0.53711082,\n",
            "       0.5139311 , 0.48677128, 0.54296425, 0.54507139, 0.51931634])]\n",
            "[0.5254039551025038]\n",
            "\n",
            "[array([0.69936791, 0.67806134, 0.69000238, 0.70428477, 0.72488878,\n",
            "       0.7377664 , 0.70826506, 0.68391477, 0.68251   , 0.65371105,\n",
            "       0.66729105, 0.65862791, 0.6893    , 0.70568953, 0.71130878,\n",
            "       0.67970029, 0.68016866, 0.68883163, 0.65933047, 0.65886209,\n",
            "       0.59377198, 0.58557721, 0.55584169, 0.52634053, 0.54881768,\n",
            "       0.52985244, 0.54249587, 0.56473901, 0.55677826, 0.56146111,\n",
            "       0.58745017, 0.58838674, 0.59143064, 0.59424017, 0.57714826,\n",
            "       0.56052454, 0.56965587, 0.58440645, 0.55748064, 0.55326616,\n",
            "       0.53078901, 0.53617425, 0.53500349, 0.54553977, 0.55677826,\n",
            "       0.56708035, 0.58393826, 0.57410436, 0.5822993 , 0.57667988,\n",
            "       0.53804739, 0.55069064, 0.54741273, 0.54483721, 0.53711082,\n",
            "       0.5139311 , 0.48677128, 0.54296425, 0.54507139, 0.51931634]), array([0.67806134, 0.69000238, 0.70428477, 0.72488878, 0.7377664 ,\n",
            "       0.70826506, 0.68391477, 0.68251   , 0.65371105, 0.66729105,\n",
            "       0.65862791, 0.6893    , 0.70568953, 0.71130878, 0.67970029,\n",
            "       0.68016866, 0.68883163, 0.65933047, 0.65886209, 0.59377198,\n",
            "       0.58557721, 0.55584169, 0.52634053, 0.54881768, 0.52985244,\n",
            "       0.54249587, 0.56473901, 0.55677826, 0.56146111, 0.58745017,\n",
            "       0.58838674, 0.59143064, 0.59424017, 0.57714826, 0.56052454,\n",
            "       0.56965587, 0.58440645, 0.55748064, 0.55326616, 0.53078901,\n",
            "       0.53617425, 0.53500349, 0.54553977, 0.55677826, 0.56708035,\n",
            "       0.58393826, 0.57410436, 0.5822993 , 0.57667988, 0.53804739,\n",
            "       0.55069064, 0.54741273, 0.54483721, 0.53711082, 0.5139311 ,\n",
            "       0.48677128, 0.54296425, 0.54507139, 0.51931634, 0.52540396])]\n",
            "[0.5254039551025038, 0.4188714533630695]\n",
            "\n"
          ],
          "name": "stdout"
        }
      ]
    },
    {
      "cell_type": "markdown",
      "metadata": {
        "id": "ly1z-l9l68wo",
        "colab_type": "text"
      },
      "source": [
        "#### convert to numpy array"
      ]
    },
    {
      "cell_type": "code",
      "metadata": {
        "id": "9d0rSDKg1kUe",
        "colab_type": "code",
        "outputId": "b2d47de0-6a49-4894-f7b4-b292e80659d8",
        "colab": {
          "base_uri": "https://localhost:8080/",
          "height": 34
        }
      },
      "source": [
        "#Convert the x_train and y_train to numpy arrays \n",
        "x_train, y_train = np.array(x_train), np.array(y_train)\n",
        "\n",
        "#Reshape the data\n",
        "x_train = np.reshape(x_train, (x_train.shape[0], x_train.shape[1], 1))\n",
        "x_train.shape"
      ],
      "execution_count": 9,
      "outputs": [
        {
          "output_type": "execute_result",
          "data": {
            "text/plain": [
              "(365, 60, 1)"
            ]
          },
          "metadata": {
            "tags": []
          },
          "execution_count": 9
        }
      ]
    },
    {
      "cell_type": "markdown",
      "metadata": {
        "id": "Wc-HiY3P7BV6",
        "colab_type": "text"
      },
      "source": [
        "## Build the model"
      ]
    },
    {
      "cell_type": "code",
      "metadata": {
        "id": "Fmt5GLPE1uzE",
        "colab_type": "code",
        "outputId": "77db655b-e5ee-4337-95ef-4b7e794bc034",
        "colab": {
          "base_uri": "https://localhost:8080/",
          "height": 158
        }
      },
      "source": [
        "#Build the LSTM model\n",
        "model = Sequential()\n",
        "model.add(LSTM(50, return_sequences=True, input_shape= (x_train.shape[1], 1)))\n",
        "model.add(LSTM(50, return_sequences= False))\n",
        "model.add(Dense(25))\n",
        "model.add(Dense(1))\n",
        "\n",
        "#Compile the model\n",
        "model.compile(optimizer='adam', loss='mean_squared_error')"
      ],
      "execution_count": 10,
      "outputs": [
        {
          "output_type": "stream",
          "text": [
            "WARNING:tensorflow:From /usr/local/lib/python3.6/dist-packages/keras/backend/tensorflow_backend.py:66: The name tf.get_default_graph is deprecated. Please use tf.compat.v1.get_default_graph instead.\n",
            "\n",
            "WARNING:tensorflow:From /usr/local/lib/python3.6/dist-packages/keras/backend/tensorflow_backend.py:541: The name tf.placeholder is deprecated. Please use tf.compat.v1.placeholder instead.\n",
            "\n",
            "WARNING:tensorflow:From /usr/local/lib/python3.6/dist-packages/keras/backend/tensorflow_backend.py:4432: The name tf.random_uniform is deprecated. Please use tf.random.uniform instead.\n",
            "\n",
            "WARNING:tensorflow:From /usr/local/lib/python3.6/dist-packages/keras/optimizers.py:793: The name tf.train.Optimizer is deprecated. Please use tf.compat.v1.train.Optimizer instead.\n",
            "\n"
          ],
          "name": "stdout"
        }
      ]
    },
    {
      "cell_type": "markdown",
      "metadata": {
        "id": "yhlrfacD7Gph",
        "colab_type": "text"
      },
      "source": [
        "### Train the model"
      ]
    },
    {
      "cell_type": "code",
      "metadata": {
        "id": "f79vMxr611jG",
        "colab_type": "code",
        "outputId": "34331d96-30ea-4ede-c33f-180ca35223b1",
        "colab": {
          "base_uri": "https://localhost:8080/",
          "height": 386
        }
      },
      "source": [
        "#Train the model\n",
        "model.fit(x_train, y_train, batch_size=1, epochs=1)\n",
        "\n",
        "#Create the testing data set\n",
        "#Create a new array containing scaled values from index 1543 to 2002\n",
        "test_data = scaled_data[training_data_len - 60: , :]\n",
        "#Create the data sets x_test and y_test\n",
        "x_test = []\n",
        "y_test = dataset[training_data_len:, :]\n",
        "for i in range(60, len(test_data)):\n",
        "  x_test.append(test_data[i-60:i, 0])\n",
        "\n",
        "#Convert the data to a numpy array\n",
        "x_test = np.array(x_test)\n",
        "\n",
        "#Reshape the data\n",
        "x_test = np.reshape(x_test, (x_test.shape[0], x_test.shape[1], 1 ))\n"
      ],
      "execution_count": 11,
      "outputs": [
        {
          "output_type": "stream",
          "text": [
            "WARNING:tensorflow:From /usr/local/lib/python3.6/dist-packages/tensorflow_core/python/ops/math_grad.py:1424: where (from tensorflow.python.ops.array_ops) is deprecated and will be removed in a future version.\n",
            "Instructions for updating:\n",
            "Use tf.where in 2.0, which has the same broadcast rule as np.where\n",
            "WARNING:tensorflow:From /usr/local/lib/python3.6/dist-packages/keras/backend/tensorflow_backend.py:1033: The name tf.assign_add is deprecated. Please use tf.compat.v1.assign_add instead.\n",
            "\n",
            "WARNING:tensorflow:From /usr/local/lib/python3.6/dist-packages/keras/backend/tensorflow_backend.py:1020: The name tf.assign is deprecated. Please use tf.compat.v1.assign instead.\n",
            "\n",
            "WARNING:tensorflow:From /usr/local/lib/python3.6/dist-packages/keras/backend/tensorflow_backend.py:3005: The name tf.Session is deprecated. Please use tf.compat.v1.Session instead.\n",
            "\n",
            "Epoch 1/1\n",
            "WARNING:tensorflow:From /usr/local/lib/python3.6/dist-packages/keras/backend/tensorflow_backend.py:190: The name tf.get_default_session is deprecated. Please use tf.compat.v1.get_default_session instead.\n",
            "\n",
            "WARNING:tensorflow:From /usr/local/lib/python3.6/dist-packages/keras/backend/tensorflow_backend.py:197: The name tf.ConfigProto is deprecated. Please use tf.compat.v1.ConfigProto instead.\n",
            "\n",
            "WARNING:tensorflow:From /usr/local/lib/python3.6/dist-packages/keras/backend/tensorflow_backend.py:207: The name tf.global_variables is deprecated. Please use tf.compat.v1.global_variables instead.\n",
            "\n",
            "WARNING:tensorflow:From /usr/local/lib/python3.6/dist-packages/keras/backend/tensorflow_backend.py:216: The name tf.is_variable_initialized is deprecated. Please use tf.compat.v1.is_variable_initialized instead.\n",
            "\n",
            "WARNING:tensorflow:From /usr/local/lib/python3.6/dist-packages/keras/backend/tensorflow_backend.py:223: The name tf.variables_initializer is deprecated. Please use tf.compat.v1.variables_initializer instead.\n",
            "\n",
            "365/365 [==============================] - 30s 81ms/step - loss: 0.0060\n"
          ],
          "name": "stdout"
        }
      ]
    },
    {
      "cell_type": "markdown",
      "metadata": {
        "id": "uDt_FmML7J26",
        "colab_type": "text"
      },
      "source": [
        "### Prediction and RMSE"
      ]
    },
    {
      "cell_type": "code",
      "metadata": {
        "id": "OdBcYarP15nm",
        "colab_type": "code",
        "outputId": "3c54b1bd-8723-452d-d908-54318f8f2381",
        "colab": {
          "base_uri": "https://localhost:8080/",
          "height": 34
        }
      },
      "source": [
        "#Get the models predicted price values \n",
        "predictions = model.predict(x_test)\n",
        "predictions = scaler.inverse_transform(predictions)\n",
        "\n",
        "#Get the root mean squared error (RMSE)\n",
        "rmse=np.sqrt(np.mean(((predictions- y_test)**2)))\n",
        "rmse"
      ],
      "execution_count": 12,
      "outputs": [
        {
          "output_type": "execute_result",
          "data": {
            "text/plain": [
              "3.4977315451633246"
            ]
          },
          "metadata": {
            "tags": []
          },
          "execution_count": 12
        }
      ]
    },
    {
      "cell_type": "markdown",
      "metadata": {
        "id": "gFiOkI1P7PCl",
        "colab_type": "text"
      },
      "source": [
        "### Visualization"
      ]
    },
    {
      "cell_type": "code",
      "metadata": {
        "id": "_nl8Jxb21-Po",
        "colab_type": "code",
        "outputId": "2cfbbb1c-4bcf-4831-b86a-4de084390398",
        "colab": {
          "base_uri": "https://localhost:8080/",
          "height": 1000
        }
      },
      "source": [
        "#Plot the data\n",
        "train = data[:training_data_len]\n",
        "valid = data[training_data_len:]\n",
        "valid['Predictions'] = predictions\n",
        "#Visualize the data\n",
        "plt.figure(figsize=(16,8))\n",
        "plt.title('Model')\n",
        "plt.xlabel('Date', fontsize=18)\n",
        "plt.ylabel('Close Price USD ($)', fontsize=18)\n",
        "plt.plot(train['Close'])\n",
        "plt.plot(valid[['Close', 'Predictions']])\n",
        "plt.legend(['Train', 'Val', 'Predictions'], loc='lower right')\n",
        "plt.show()\n",
        "\n",
        "#Show the valid and predicted prices\n",
        "valid"
      ],
      "execution_count": 13,
      "outputs": [
        {
          "output_type": "stream",
          "text": [
            "/usr/local/lib/python3.6/dist-packages/ipykernel_launcher.py:3: SettingWithCopyWarning: \n",
            "A value is trying to be set on a copy of a slice from a DataFrame.\n",
            "Try using .loc[row_indexer,col_indexer] = value instead\n",
            "\n",
            "See the caveats in the documentation: http://pandas.pydata.org/pandas-docs/stable/user_guide/indexing.html#returning-a-view-versus-a-copy\n",
            "  This is separate from the ipykernel package so we can avoid doing imports until\n"
          ],
          "name": "stderr"
        },
        {
          "output_type": "display_data",
          "data": {
            "image/png": "[encoded data removed]",
            "text/plain": [
              "<Figure size 1152x576 with 1 Axes>"
            ]
          },
          "metadata": {
            "tags": []
          }
        },
        {
          "output_type": "execute_result",
          "data": {
            "text/html": [
              "<div>\n",
              "<style scoped>\n",
              "    .dataframe tbody tr th:only-of-type {\n",
              "        vertical-align: middle;\n",
              "    }\n",
              "\n",
              "    .dataframe tbody tr th {\n",
              "        vertical-align: top;\n",
              "    }\n",
              "\n",
              "    .dataframe thead th {\n",
              "        text-align: right;\n",
              "    }\n",
              "</style>\n",
              "<table border=\"1\" class=\"dataframe\">\n",
              "  <thead>\n",
              "    <tr style=\"text-align: right;\">\n",
              "      <th></th>\n",
              "      <th>Close</th>\n",
              "      <th>Predictions</th>\n",
              "    </tr>\n",
              "    <tr>\n",
              "      <th>Date</th>\n",
              "      <th></th>\n",
              "      <th></th>\n",
              "    </tr>\n",
              "  </thead>\n",
              "  <tbody>\n",
              "    <tr>\n",
              "      <th>2019-09-11</th>\n",
              "      <td>82.320000</td>\n",
              "      <td>89.679794</td>\n",
              "    </tr>\n",
              "    <tr>\n",
              "      <th>2019-09-12</th>\n",
              "      <td>83.470001</td>\n",
              "      <td>88.400482</td>\n",
              "    </tr>\n",
              "    <tr>\n",
              "      <th>2019-09-13</th>\n",
              "      <td>85.169998</td>\n",
              "      <td>87.422745</td>\n",
              "    </tr>\n",
              "    <tr>\n",
              "      <th>2019-09-16</th>\n",
              "      <td>86.339996</td>\n",
              "      <td>86.888161</td>\n",
              "    </tr>\n",
              "    <tr>\n",
              "      <th>2019-09-17</th>\n",
              "      <td>88.879997</td>\n",
              "      <td>86.769600</td>\n",
              "    </tr>\n",
              "    <tr>\n",
              "      <th>...</th>\n",
              "      <td>...</td>\n",
              "      <td>...</td>\n",
              "    </tr>\n",
              "    <tr>\n",
              "      <th>2020-02-05</th>\n",
              "      <td>84.110001</td>\n",
              "      <td>86.547447</td>\n",
              "    </tr>\n",
              "    <tr>\n",
              "      <th>2020-02-06</th>\n",
              "      <td>79.769997</td>\n",
              "      <td>86.269768</td>\n",
              "    </tr>\n",
              "    <tr>\n",
              "      <th>2020-02-07</th>\n",
              "      <td>80.349998</td>\n",
              "      <td>85.612686</td>\n",
              "    </tr>\n",
              "    <tr>\n",
              "      <th>2020-02-10</th>\n",
              "      <td>81.580002</td>\n",
              "      <td>84.910904</td>\n",
              "    </tr>\n",
              "    <tr>\n",
              "      <th>2020-02-11</th>\n",
              "      <td>80.989998</td>\n",
              "      <td>84.385597</td>\n",
              "    </tr>\n",
              "  </tbody>\n",
              "</table>\n",
              "<p>106 rows × 2 columns</p>\n",
              "</div>"
            ],
            "text/plain": [
              "                Close  Predictions\n",
              "Date                              \n",
              "2019-09-11  82.320000    89.679794\n",
              "2019-09-12  83.470001    88.400482\n",
              "2019-09-13  85.169998    87.422745\n",
              "2019-09-16  86.339996    86.888161\n",
              "2019-09-17  88.879997    86.769600\n",
              "...               ...          ...\n",
              "2020-02-05  84.110001    86.547447\n",
              "2020-02-06  79.769997    86.269768\n",
              "2020-02-07  80.349998    85.612686\n",
              "2020-02-10  81.580002    84.910904\n",
              "2020-02-11  80.989998    84.385597\n",
              "\n",
              "[106 rows x 2 columns]"
            ]
          },
          "metadata": {
            "tags": []
          },
          "execution_count": 13
        }
      ]
    },
    {
      "cell_type": "code",
      "metadata": {
        "id": "SNtoebiz2IxX",
        "colab_type": "code",
        "colab": {
          "base_uri": "https://localhost:8080/",
          "height": 721
        },
        "outputId": "03f59835-d6c0-4458-b1f0-2426f150b988"
      },
      "source": [
        "#Get the quote\n",
        "apple_quote = web.DataReader('TSN', data_source='yahoo', start='2018-01-01', end='2020-02-11')\n",
        "#Create a new dataframe\n",
        "new_df = apple_quote.filter(['Close'])\n",
        "#Get teh last 60 day closing price values and convert the dataframe to an array\n",
        "last_60_days = new_df[-60:].values\n",
        "#Scale the data to be values between 0 and 1\n",
        "last_60_days_scaled = scaler.transform(last_60_days)\n",
        "#Create an empty list\n",
        "X_test = []\n",
        "#Append teh past 60 days\n",
        "X_test.append(last_60_days_scaled)\n",
        "#Convert the X_test data set to a numpy array\n",
        "X_test = np.array(X_test)\n",
        "#Reshape the data\n",
        "X_test = np.reshape(X_test, (X_test.shape[0], X_test.shape[1], 1))\n",
        "#Get the predicted scaled price\n",
        "pred_price = model.predict(X_test)\n",
        "#undo the scaling \n",
        "pred_price = scaler.inverse_transform(pred_price)\n",
        "print(pred_price)\n",
        "\n",
        "#Get the quote\n",
        "apple_quote2 = web.DataReader('TSN', data_source='yahoo', start='2019-12-18', end='2020-02-11')\n",
        "print(apple_quote2['Close'])"
      ],
      "execution_count": 14,
      "outputs": [
        {
          "output_type": "stream",
          "text": [
            "[[83.93123]]\n",
            "Date\n",
            "2019-12-18    88.860001\n",
            "2019-12-19    89.739998\n",
            "2019-12-20    90.860001\n",
            "2019-12-23    91.389999\n",
            "2019-12-24    91.150002\n",
            "2019-12-26    91.300003\n",
            "2019-12-27    91.419998\n",
            "2019-12-30    90.339996\n",
            "2019-12-31    91.040001\n",
            "2020-01-02    89.970001\n",
            "2020-01-03    90.580002\n",
            "2020-01-06    90.150002\n",
            "2020-01-07    88.839996\n",
            "2020-01-08    89.389999\n",
            "2020-01-09    89.209999\n",
            "2020-01-10    91.919998\n",
            "2020-01-13    93.459999\n",
            "2020-01-14    91.940002\n",
            "2020-01-15    90.790001\n",
            "2020-01-16    90.019997\n",
            "2020-01-17    89.860001\n",
            "2020-01-21    87.470001\n",
            "2020-01-22    87.610001\n",
            "2020-01-23    87.959999\n",
            "2020-01-24    85.930000\n",
            "2020-01-27    84.150002\n",
            "2020-01-28    84.570000\n",
            "2020-01-29    84.410004\n",
            "2020-01-30    84.750000\n",
            "2020-01-31    82.629997\n",
            "2020-02-03    83.269997\n",
            "2020-02-04    83.889999\n",
            "2020-02-05    84.110001\n",
            "2020-02-06    79.769997\n",
            "2020-02-07    80.349998\n",
            "2020-02-10    81.580002\n",
            "2020-02-11    80.989998\n",
            "Name: Close, dtype: float64\n"
          ],
          "name": "stdout"
        }
      ]
    },
    {
      "cell_type": "markdown",
      "metadata": {
        "id": "X7ot1FeG7kO_",
        "colab_type": "text"
      },
      "source": [
        "# All together prediction"
      ]
    },
    {
      "cell_type": "code",
      "metadata": {
        "id": "OqlrrmQm7qVV",
        "colab_type": "code",
        "colab": {}
      },
      "source": [
        "df = web.DataReader('MRK', data_source='yahoo', start='2018-01-01', end='2020-02-11')\n"
      ],
      "execution_count": 0,
      "outputs": []
    }
  ]
}