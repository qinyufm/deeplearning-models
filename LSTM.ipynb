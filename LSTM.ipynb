{
  "nbformat": 4,
  "nbformat_minor": 0,
  "metadata": {
    "colab": {
      "name": "Colab's New Code Editor",
      "provenance": [],
      "collapsed_sections": [],
      "toc_visible": true,
      "include_colab_link": true
    },
    "kernelspec": {
      "display_name": "Python 3",
      "name": "python3"
    }
  },
  "cells": [
    {
      "cell_type": "markdown",
      "metadata": {
        "id": "view-in-github",
        "colab_type": "text"
      },
      "source": [
        "<a href=\"https://colab.research.google.com/github/qinyufm/deeplearning-models/blob/master/LSTM.ipynb\" target=\"_parent\"><img src=\"https://colab.research.google.com/assets/colab-badge.svg\" alt=\"Open In Colab\"/></a>"
      ]
    },
    {
      "cell_type": "markdown",
      "metadata": {
        "colab_type": "text",
        "id": "aRDUGd13kUFu"
      },
      "source": [
        "# LSTM\n"
      ]
    },
    {
      "cell_type": "code",
      "metadata": {
        "id": "-uTOYW1P0fR3",
        "colab_type": "code",
        "colab": {
          "base_uri": "https://localhost:8080/",
          "height": 81
        },
        "outputId": "23af1a42-b2df-453c-a1ad-de9f6990597c"
      },
      "source": [
        "import math\n",
        "import pandas_datareader as web\n",
        "import numpy as np\n",
        "import pandas as pd\n",
        "from sklearn.preprocessing import MinMaxScaler\n",
        "from keras.models import Sequential\n",
        "from keras.layers import Dense, LSTM\n",
        "import matplotlib.pyplot as plt\n",
        "plt.style.use('fivethirtyeight')"
      ],
      "execution_count": 1,
      "outputs": [
        {
          "output_type": "stream",
          "text": [
            "Using TensorFlow backend.\n"
          ],
          "name": "stderr"
        },
        {
          "output_type": "display_data",
          "data": {
            "text/html": [
              "<p style=\"color: red;\">\n",
              "The default version of TensorFlow in Colab will soon switch to TensorFlow 2.x.<br>\n",
              "We recommend you <a href=\"https://www.tensorflow.org/guide/migrate\" target=\"_blank\">upgrade</a> now \n",
              "or ensure your notebook will continue to use TensorFlow 1.x via the <code>%tensorflow_version 1.x</code> magic:\n",
              "<a href=\"https://colab.research.google.com/notebooks/tensorflow_version.ipynb\" target=\"_blank\">more info</a>.</p>\n"
            ],
            "text/plain": [
              "<IPython.core.display.HTML object>"
            ]
          },
          "metadata": {
            "tags": []
          }
        }
      ]
    },
    {
      "cell_type": "markdown",
      "metadata": {
        "colab_type": "text",
        "id": "LhDiAMaaAnQF"
      },
      "source": [
        "## Get the data"
      ]
    },
    {
      "cell_type": "code",
      "metadata": {
        "id": "Yb7LgH6N04pS",
        "colab_type": "code",
        "colab": {
          "base_uri": "https://localhost:8080/",
          "height": 431
        },
        "outputId": "19fa4258-351a-4e2f-ab2c-9bf86207eaff"
      },
      "source": [
        "df = web.DataReader('MSFT', data_source='yahoo', start='2018-01-01', end='2020-02-11')\n",
        "#Show the data\n",
        "df"
      ],
      "execution_count": 3,
      "outputs": [
        {
          "output_type": "execute_result",
          "data": {
            "text/html": [
              "<div>\n",
              "<style scoped>\n",
              "    .dataframe tbody tr th:only-of-type {\n",
              "        vertical-align: middle;\n",
              "    }\n",
              "\n",
              "    .dataframe tbody tr th {\n",
              "        vertical-align: top;\n",
              "    }\n",
              "\n",
              "    .dataframe thead th {\n",
              "        text-align: right;\n",
              "    }\n",
              "</style>\n",
              "<table border=\"1\" class=\"dataframe\">\n",
              "  <thead>\n",
              "    <tr style=\"text-align: right;\">\n",
              "      <th></th>\n",
              "      <th>High</th>\n",
              "      <th>Low</th>\n",
              "      <th>Open</th>\n",
              "      <th>Close</th>\n",
              "      <th>Volume</th>\n",
              "      <th>Adj Close</th>\n",
              "    </tr>\n",
              "    <tr>\n",
              "      <th>Date</th>\n",
              "      <th></th>\n",
              "      <th></th>\n",
              "      <th></th>\n",
              "      <th></th>\n",
              "      <th></th>\n",
              "      <th></th>\n",
              "    </tr>\n",
              "  </thead>\n",
              "  <tbody>\n",
              "    <tr>\n",
              "      <th>2018-01-02</th>\n",
              "      <td>86.309998</td>\n",
              "      <td>85.500000</td>\n",
              "      <td>86.129997</td>\n",
              "      <td>85.949997</td>\n",
              "      <td>22483800.0</td>\n",
              "      <td>83.256378</td>\n",
              "    </tr>\n",
              "    <tr>\n",
              "      <th>2018-01-03</th>\n",
              "      <td>86.510002</td>\n",
              "      <td>85.970001</td>\n",
              "      <td>86.059998</td>\n",
              "      <td>86.349998</td>\n",
              "      <td>26061400.0</td>\n",
              "      <td>83.643845</td>\n",
              "    </tr>\n",
              "    <tr>\n",
              "      <th>2018-01-04</th>\n",
              "      <td>87.660004</td>\n",
              "      <td>86.570000</td>\n",
              "      <td>86.589996</td>\n",
              "      <td>87.110001</td>\n",
              "      <td>21912000.0</td>\n",
              "      <td>84.380028</td>\n",
              "    </tr>\n",
              "    <tr>\n",
              "      <th>2018-01-05</th>\n",
              "      <td>88.410004</td>\n",
              "      <td>87.430000</td>\n",
              "      <td>87.660004</td>\n",
              "      <td>88.190002</td>\n",
              "      <td>23407100.0</td>\n",
              "      <td>85.426178</td>\n",
              "    </tr>\n",
              "    <tr>\n",
              "      <th>2018-01-08</th>\n",
              "      <td>88.580002</td>\n",
              "      <td>87.599998</td>\n",
              "      <td>88.199997</td>\n",
              "      <td>88.279999</td>\n",
              "      <td>22113000.0</td>\n",
              "      <td>85.513359</td>\n",
              "    </tr>\n",
              "    <tr>\n",
              "      <th>...</th>\n",
              "      <td>...</td>\n",
              "      <td>...</td>\n",
              "      <td>...</td>\n",
              "      <td>...</td>\n",
              "      <td>...</td>\n",
              "      <td>...</td>\n",
              "    </tr>\n",
              "    <tr>\n",
              "      <th>2020-02-05</th>\n",
              "      <td>184.199997</td>\n",
              "      <td>178.410004</td>\n",
              "      <td>184.029999</td>\n",
              "      <td>179.899994</td>\n",
              "      <td>39186300.0</td>\n",
              "      <td>179.899994</td>\n",
              "    </tr>\n",
              "    <tr>\n",
              "      <th>2020-02-06</th>\n",
              "      <td>183.820007</td>\n",
              "      <td>180.059998</td>\n",
              "      <td>180.970001</td>\n",
              "      <td>183.630005</td>\n",
              "      <td>27751400.0</td>\n",
              "      <td>183.630005</td>\n",
              "    </tr>\n",
              "    <tr>\n",
              "      <th>2020-02-07</th>\n",
              "      <td>185.630005</td>\n",
              "      <td>182.479996</td>\n",
              "      <td>182.850006</td>\n",
              "      <td>183.889999</td>\n",
              "      <td>33529100.0</td>\n",
              "      <td>183.889999</td>\n",
              "    </tr>\n",
              "    <tr>\n",
              "      <th>2020-02-10</th>\n",
              "      <td>188.839996</td>\n",
              "      <td>183.250000</td>\n",
              "      <td>183.580002</td>\n",
              "      <td>188.699997</td>\n",
              "      <td>35844300.0</td>\n",
              "      <td>188.699997</td>\n",
              "    </tr>\n",
              "    <tr>\n",
              "      <th>2020-02-11</th>\n",
              "      <td>190.699997</td>\n",
              "      <td>183.500000</td>\n",
              "      <td>190.649994</td>\n",
              "      <td>184.440002</td>\n",
              "      <td>53078600.0</td>\n",
              "      <td>184.440002</td>\n",
              "    </tr>\n",
              "  </tbody>\n",
              "</table>\n",
              "<p>531 rows × 6 columns</p>\n",
              "</div>"
            ],
            "text/plain": [
              "                  High         Low  ...      Volume   Adj Close\n",
              "Date                                ...                        \n",
              "2018-01-02   86.309998   85.500000  ...  22483800.0   83.256378\n",
              "2018-01-03   86.510002   85.970001  ...  26061400.0   83.643845\n",
              "2018-01-04   87.660004   86.570000  ...  21912000.0   84.380028\n",
              "2018-01-05   88.410004   87.430000  ...  23407100.0   85.426178\n",
              "2018-01-08   88.580002   87.599998  ...  22113000.0   85.513359\n",
              "...                ...         ...  ...         ...         ...\n",
              "2020-02-05  184.199997  178.410004  ...  39186300.0  179.899994\n",
              "2020-02-06  183.820007  180.059998  ...  27751400.0  183.630005\n",
              "2020-02-07  185.630005  182.479996  ...  33529100.0  183.889999\n",
              "2020-02-10  188.839996  183.250000  ...  35844300.0  188.699997\n",
              "2020-02-11  190.699997  183.500000  ...  53078600.0  184.440002\n",
              "\n",
              "[531 rows x 6 columns]"
            ]
          },
          "metadata": {
            "tags": []
          },
          "execution_count": 3
        }
      ]
    },
    {
      "cell_type": "code",
      "metadata": {
        "id": "Lus8P7pk1LZB",
        "colab_type": "code",
        "colab": {
          "base_uri": "https://localhost:8080/",
          "height": 684
        },
        "outputId": "9817317e-827f-4e77-e066-b03a7d735af3"
      },
      "source": [
        "#Visualize the closing price history\n",
        "plt.figure(figsize=(16,8))\n",
        "plt.title('Close Price History')\n",
        "plt.plot(df['Close'])\n",
        "plt.xlabel('Date', fontsize=18)\n",
        "plt.ylabel('Close Price USD ($)', fontsize=18)\n",
        "plt.show()"
      ],
      "execution_count": 4,
      "outputs": [
        {
          "output_type": "stream",
          "text": [
            "/usr/local/lib/python3.6/dist-packages/pandas/plotting/_matplotlib/converter.py:103: FutureWarning: Using an implicitly registered datetime converter for a matplotlib plotting method. The converter was registered by pandas on import. Future versions of pandas will require you to explicitly register matplotlib converters.\n",
            "\n",
            "To register the converters:\n",
            "\t>>> from pandas.plotting import register_matplotlib_converters\n",
            "\t>>> register_matplotlib_converters()\n",
            "  warnings.warn(msg, FutureWarning)\n"
          ],
          "name": "stderr"
        },
        {
          "output_type": "display_data",
          "data": {
            "image/png": "[encoded data removed]",
            "text/plain": [
              "<Figure size 1152x576 with 1 Axes>"
            ]
          },
          "metadata": {
            "tags": []
          }
        }
      ]
    },
    {
      "cell_type": "code",
      "metadata": {
        "id": "CGSe5NYG1RVf",
        "colab_type": "code",
        "colab": {
          "base_uri": "https://localhost:8080/",
          "height": 34
        },
        "outputId": "64fce248-e040-40f6-866c-670646748126"
      },
      "source": [
        "#Create a new dataframe with only the 'Close column\n",
        "data = df.filter(['Close'])\n",
        "#Convert the dataframe to a numpy array\n",
        "dataset = data.values\n",
        "#Get the number of rows to train the model on\n",
        "training_data_len = math.ceil( len(dataset) * .8 )\n",
        "\n",
        "training_data_len"
      ],
      "execution_count": 5,
      "outputs": [
        {
          "output_type": "execute_result",
          "data": {
            "text/plain": [
              "425"
            ]
          },
          "metadata": {
            "tags": []
          },
          "execution_count": 5
        }
      ]
    },
    {
      "cell_type": "code",
      "metadata": {
        "id": "E-f060Qw1hTE",
        "colab_type": "code",
        "colab": {}
      },
      "source": [
        "#Scale the data\n",
        "scaler = MinMaxScaler(feature_range=(0,1))\n",
        "scaled_data = scaler.fit_transform(dataset)"
      ],
      "execution_count": 0,
      "outputs": []
    },
    {
      "cell_type": "code",
      "metadata": {
        "id": "l2_28Nq21kQY",
        "colab_type": "code",
        "colab": {
          "base_uri": "https://localhost:8080/",
          "height": 703
        },
        "outputId": "b66eb704-2861-4c25-d0d8-bf03e63c8f08"
      },
      "source": [
        "#Create the training data set\n",
        "#Create the scaled training data set\n",
        "train_data = scaled_data[0:training_data_len , :]\n",
        "#Split the data into x_train and y_train data sets\n",
        "x_train = []\n",
        "y_train = []\n",
        "for i in range(60, len(train_data)):\n",
        "  x_train.append(train_data[i-60:i, 0])\n",
        "  y_train.append(train_data[i, 0])\n",
        "  if i<= 61:\n",
        "    print(x_train)\n",
        "    print(y_train)\n",
        "    print()\n",
        "\n"
      ],
      "execution_count": 8,
      "outputs": [
        {
          "output_type": "stream",
          "text": [
            "[array([0.00906543, 0.0129231 , 0.02025266, 0.03066834, 0.03153628,\n",
            "       0.03095765, 0.02709999, 0.02960748, 0.04426653, 0.03221137,\n",
            "       0.04947437, 0.0490886 , 0.0481242 , 0.06365126, 0.06644806,\n",
            "       0.06567652, 0.07059504, 0.08727935, 0.08592918, 0.0745491 ,\n",
            "       0.09644132, 0.08920822, 0.06529074, 0.02883593, 0.06095091,\n",
            "       0.04436299, 0.        , 0.03057188, 0.03973378, 0.04648471,\n",
            "       0.05593592, 0.07377762, 0.06741246, 0.07435625, 0.06249393,\n",
            "       0.06480858, 0.08727935, 0.10039538, 0.08862952, 0.08448254,\n",
            "       0.07560996, 0.07753883, 0.08322883, 0.08014271, 0.08535055,\n",
            "       0.09084771, 0.11119683, 0.11341494, 0.09065486, 0.08525409,\n",
            "       0.08843667, 0.09248719, 0.07599573, 0.0783103 , 0.07204168,\n",
            "       0.04609894, 0.02092775, 0.08457901, 0.04301282, 0.04224127])]\n",
            "[0.06037221352151867]\n",
            "\n",
            "[array([0.00906543, 0.0129231 , 0.02025266, 0.03066834, 0.03153628,\n",
            "       0.03095765, 0.02709999, 0.02960748, 0.04426653, 0.03221137,\n",
            "       0.04947437, 0.0490886 , 0.0481242 , 0.06365126, 0.06644806,\n",
            "       0.06567652, 0.07059504, 0.08727935, 0.08592918, 0.0745491 ,\n",
            "       0.09644132, 0.08920822, 0.06529074, 0.02883593, 0.06095091,\n",
            "       0.04436299, 0.        , 0.03057188, 0.03973378, 0.04648471,\n",
            "       0.05593592, 0.07377762, 0.06741246, 0.07435625, 0.06249393,\n",
            "       0.06480858, 0.08727935, 0.10039538, 0.08862952, 0.08448254,\n",
            "       0.07560996, 0.07753883, 0.08322883, 0.08014271, 0.08535055,\n",
            "       0.09084771, 0.11119683, 0.11341494, 0.09065486, 0.08525409,\n",
            "       0.08843667, 0.09248719, 0.07599573, 0.0783103 , 0.07204168,\n",
            "       0.04609894, 0.02092775, 0.08457901, 0.04301282, 0.04224127]), array([0.0129231 , 0.02025266, 0.03066834, 0.03153628, 0.03095765,\n",
            "       0.02709999, 0.02960748, 0.04426653, 0.03221137, 0.04947437,\n",
            "       0.0490886 , 0.0481242 , 0.06365126, 0.06644806, 0.06567652,\n",
            "       0.07059504, 0.08727935, 0.08592918, 0.0745491 , 0.09644132,\n",
            "       0.08920822, 0.06529074, 0.02883593, 0.06095091, 0.04436299,\n",
            "       0.        , 0.03057188, 0.03973378, 0.04648471, 0.05593592,\n",
            "       0.07377762, 0.06741246, 0.07435625, 0.06249393, 0.06480858,\n",
            "       0.08727935, 0.10039538, 0.08862952, 0.08448254, 0.07560996,\n",
            "       0.07753883, 0.08322883, 0.08014271, 0.08535055, 0.09084771,\n",
            "       0.11119683, 0.11341494, 0.09065486, 0.08525409, 0.08843667,\n",
            "       0.09248719, 0.07599573, 0.0783103 , 0.07204168, 0.04609894,\n",
            "       0.02092775, 0.08457901, 0.04301282, 0.04224127, 0.06037221])]\n",
            "[0.06037221352151867, 0.03385085044318403]\n",
            "\n"
          ],
          "name": "stdout"
        }
      ]
    },
    {
      "cell_type": "code",
      "metadata": {
        "id": "9d0rSDKg1kUe",
        "colab_type": "code",
        "colab": {
          "base_uri": "https://localhost:8080/",
          "height": 34
        },
        "outputId": "21476b8f-b63f-45c0-b70f-f2851d54e2cc"
      },
      "source": [
        "#Convert the x_train and y_train to numpy arrays \n",
        "x_train, y_train = np.array(x_train), np.array(y_train)\n",
        "\n",
        "#Reshape the data\n",
        "x_train = np.reshape(x_train, (x_train.shape[0], x_train.shape[1], 1))\n",
        "x_train.shape"
      ],
      "execution_count": 9,
      "outputs": [
        {
          "output_type": "execute_result",
          "data": {
            "text/plain": [
              "(365, 60, 1)"
            ]
          },
          "metadata": {
            "tags": []
          },
          "execution_count": 9
        }
      ]
    },
    {
      "cell_type": "code",
      "metadata": {
        "id": "Fmt5GLPE1uzE",
        "colab_type": "code",
        "colab": {
          "base_uri": "https://localhost:8080/",
          "height": 158
        },
        "outputId": "8a7247a2-1d87-464e-877e-f7099269bff9"
      },
      "source": [
        "#Build the LSTM model\n",
        "model = Sequential()\n",
        "model.add(LSTM(50, return_sequences=True, input_shape= (x_train.shape[1], 1)))\n",
        "model.add(LSTM(50, return_sequences= False))\n",
        "model.add(Dense(25))\n",
        "model.add(Dense(1))\n",
        "\n",
        "#Compile the model\n",
        "model.compile(optimizer='adam', loss='mean_squared_error')"
      ],
      "execution_count": 10,
      "outputs": [
        {
          "output_type": "stream",
          "text": [
            "WARNING:tensorflow:From /usr/local/lib/python3.6/dist-packages/keras/backend/tensorflow_backend.py:66: The name tf.get_default_graph is deprecated. Please use tf.compat.v1.get_default_graph instead.\n",
            "\n",
            "WARNING:tensorflow:From /usr/local/lib/python3.6/dist-packages/keras/backend/tensorflow_backend.py:541: The name tf.placeholder is deprecated. Please use tf.compat.v1.placeholder instead.\n",
            "\n",
            "WARNING:tensorflow:From /usr/local/lib/python3.6/dist-packages/keras/backend/tensorflow_backend.py:4432: The name tf.random_uniform is deprecated. Please use tf.random.uniform instead.\n",
            "\n",
            "WARNING:tensorflow:From /usr/local/lib/python3.6/dist-packages/keras/optimizers.py:793: The name tf.train.Optimizer is deprecated. Please use tf.compat.v1.train.Optimizer instead.\n",
            "\n"
          ],
          "name": "stdout"
        }
      ]
    },
    {
      "cell_type": "code",
      "metadata": {
        "id": "f79vMxr611jG",
        "colab_type": "code",
        "colab": {
          "base_uri": "https://localhost:8080/",
          "height": 386
        },
        "outputId": "3b236a82-65d7-493f-e608-d74bb7babd77"
      },
      "source": [
        "#Train the model\n",
        "model.fit(x_train, y_train, batch_size=1, epochs=1)\n",
        "\n",
        "#Create the testing data set\n",
        "#Create a new array containing scaled values from index 1543 to 2002\n",
        "test_data = scaled_data[training_data_len - 60: , :]\n",
        "#Create the data sets x_test and y_test\n",
        "x_test = []\n",
        "y_test = dataset[training_data_len:, :]\n",
        "for i in range(60, len(test_data)):\n",
        "  x_test.append(test_data[i-60:i, 0])\n",
        "\n",
        "#Convert the data to a numpy array\n",
        "x_test = np.array(x_test)\n",
        "\n",
        "#Reshape the data\n",
        "x_test = np.reshape(x_test, (x_test.shape[0], x_test.shape[1], 1 ))\n"
      ],
      "execution_count": 11,
      "outputs": [
        {
          "output_type": "stream",
          "text": [
            "WARNING:tensorflow:From /usr/local/lib/python3.6/dist-packages/tensorflow_core/python/ops/math_grad.py:1424: where (from tensorflow.python.ops.array_ops) is deprecated and will be removed in a future version.\n",
            "Instructions for updating:\n",
            "Use tf.where in 2.0, which has the same broadcast rule as np.where\n",
            "WARNING:tensorflow:From /usr/local/lib/python3.6/dist-packages/keras/backend/tensorflow_backend.py:1033: The name tf.assign_add is deprecated. Please use tf.compat.v1.assign_add instead.\n",
            "\n",
            "WARNING:tensorflow:From /usr/local/lib/python3.6/dist-packages/keras/backend/tensorflow_backend.py:1020: The name tf.assign is deprecated. Please use tf.compat.v1.assign instead.\n",
            "\n",
            "WARNING:tensorflow:From /usr/local/lib/python3.6/dist-packages/keras/backend/tensorflow_backend.py:3005: The name tf.Session is deprecated. Please use tf.compat.v1.Session instead.\n",
            "\n",
            "Epoch 1/1\n",
            "WARNING:tensorflow:From /usr/local/lib/python3.6/dist-packages/keras/backend/tensorflow_backend.py:190: The name tf.get_default_session is deprecated. Please use tf.compat.v1.get_default_session instead.\n",
            "\n",
            "WARNING:tensorflow:From /usr/local/lib/python3.6/dist-packages/keras/backend/tensorflow_backend.py:197: The name tf.ConfigProto is deprecated. Please use tf.compat.v1.ConfigProto instead.\n",
            "\n",
            "WARNING:tensorflow:From /usr/local/lib/python3.6/dist-packages/keras/backend/tensorflow_backend.py:207: The name tf.global_variables is deprecated. Please use tf.compat.v1.global_variables instead.\n",
            "\n",
            "WARNING:tensorflow:From /usr/local/lib/python3.6/dist-packages/keras/backend/tensorflow_backend.py:216: The name tf.is_variable_initialized is deprecated. Please use tf.compat.v1.is_variable_initialized instead.\n",
            "\n",
            "WARNING:tensorflow:From /usr/local/lib/python3.6/dist-packages/keras/backend/tensorflow_backend.py:223: The name tf.variables_initializer is deprecated. Please use tf.compat.v1.variables_initializer instead.\n",
            "\n",
            "365/365 [==============================] - 28s 76ms/step - loss: 0.0020\n"
          ],
          "name": "stdout"
        }
      ]
    },
    {
      "cell_type": "code",
      "metadata": {
        "id": "OdBcYarP15nm",
        "colab_type": "code",
        "colab": {
          "base_uri": "https://localhost:8080/",
          "height": 34
        },
        "outputId": "f73e56f7-264c-49bf-e924-66a47b91e064"
      },
      "source": [
        "#Get the models predicted price values \n",
        "predictions = model.predict(x_test)\n",
        "predictions = scaler.inverse_transform(predictions)\n",
        "\n",
        "#Get the root mean squared error (RMSE)\n",
        "rmse=np.sqrt(np.mean(((predictions- y_test)**2)))\n",
        "rmse"
      ],
      "execution_count": 12,
      "outputs": [
        {
          "output_type": "execute_result",
          "data": {
            "text/plain": [
              "3.718544511546264"
            ]
          },
          "metadata": {
            "tags": []
          },
          "execution_count": 12
        }
      ]
    },
    {
      "cell_type": "code",
      "metadata": {
        "id": "_nl8Jxb21-Po",
        "colab_type": "code",
        "colab": {
          "base_uri": "https://localhost:8080/",
          "height": 1000
        },
        "outputId": "fd38d6a7-931d-49e9-95b8-7c5a6f9688f8"
      },
      "source": [
        "#Plot the data\n",
        "train = data[:training_data_len]\n",
        "valid = data[training_data_len:]\n",
        "valid['Predictions'] = predictions\n",
        "#Visualize the data\n",
        "plt.figure(figsize=(16,8))\n",
        "plt.title('Model')\n",
        "plt.xlabel('Date', fontsize=18)\n",
        "plt.ylabel('Close Price USD ($)', fontsize=18)\n",
        "plt.plot(train['Close'])\n",
        "plt.plot(valid[['Close', 'Predictions']])\n",
        "plt.legend(['Train', 'Val', 'Predictions'], loc='lower right')\n",
        "plt.show()\n",
        "\n",
        "#Show the valid and predicted prices\n",
        "valid"
      ],
      "execution_count": 13,
      "outputs": [
        {
          "output_type": "stream",
          "text": [
            "/usr/local/lib/python3.6/dist-packages/ipykernel_launcher.py:3: SettingWithCopyWarning: \n",
            "A value is trying to be set on a copy of a slice from a DataFrame.\n",
            "Try using .loc[row_indexer,col_indexer] = value instead\n",
            "\n",
            "See the caveats in the documentation: http://pandas.pydata.org/pandas-docs/stable/user_guide/indexing.html#returning-a-view-versus-a-copy\n",
            "  This is separate from the ipykernel package so we can avoid doing imports until\n"
          ],
          "name": "stderr"
        },
        {
          "output_type": "display_data",
          "data": {
            "image/png": "[encoded data removed]",
            "text/plain": [
              "<Figure size 1152x576 with 1 Axes>"
            ]
          },
          "metadata": {
            "tags": []
          }
        },
        {
          "output_type": "execute_result",
          "data": {
            "text/html": [
              "<div>\n",
              "<style scoped>\n",
              "    .dataframe tbody tr th:only-of-type {\n",
              "        vertical-align: middle;\n",
              "    }\n",
              "\n",
              "    .dataframe tbody tr th {\n",
              "        vertical-align: top;\n",
              "    }\n",
              "\n",
              "    .dataframe thead th {\n",
              "        text-align: right;\n",
              "    }\n",
              "</style>\n",
              "<table border=\"1\" class=\"dataframe\">\n",
              "  <thead>\n",
              "    <tr style=\"text-align: right;\">\n",
              "      <th></th>\n",
              "      <th>Close</th>\n",
              "      <th>Predictions</th>\n",
              "    </tr>\n",
              "    <tr>\n",
              "      <th>Date</th>\n",
              "      <th></th>\n",
              "      <th></th>\n",
              "    </tr>\n",
              "  </thead>\n",
              "  <tbody>\n",
              "    <tr>\n",
              "      <th>2019-09-11</th>\n",
              "      <td>136.119995</td>\n",
              "      <td>138.059570</td>\n",
              "    </tr>\n",
              "    <tr>\n",
              "      <th>2019-09-12</th>\n",
              "      <td>137.520004</td>\n",
              "      <td>137.976028</td>\n",
              "    </tr>\n",
              "    <tr>\n",
              "      <th>2019-09-13</th>\n",
              "      <td>137.320007</td>\n",
              "      <td>137.935867</td>\n",
              "    </tr>\n",
              "    <tr>\n",
              "      <th>2019-09-16</th>\n",
              "      <td>136.330002</td>\n",
              "      <td>137.908875</td>\n",
              "    </tr>\n",
              "    <tr>\n",
              "      <th>2019-09-17</th>\n",
              "      <td>137.389999</td>\n",
              "      <td>137.821930</td>\n",
              "    </tr>\n",
              "    <tr>\n",
              "      <th>...</th>\n",
              "      <td>...</td>\n",
              "      <td>...</td>\n",
              "    </tr>\n",
              "    <tr>\n",
              "      <th>2020-02-05</th>\n",
              "      <td>179.899994</td>\n",
              "      <td>169.285522</td>\n",
              "    </tr>\n",
              "    <tr>\n",
              "      <th>2020-02-06</th>\n",
              "      <td>183.630005</td>\n",
              "      <td>170.901688</td>\n",
              "    </tr>\n",
              "    <tr>\n",
              "      <th>2020-02-07</th>\n",
              "      <td>183.889999</td>\n",
              "      <td>172.757858</td>\n",
              "    </tr>\n",
              "    <tr>\n",
              "      <th>2020-02-10</th>\n",
              "      <td>188.699997</td>\n",
              "      <td>174.632080</td>\n",
              "    </tr>\n",
              "    <tr>\n",
              "      <th>2020-02-11</th>\n",
              "      <td>184.440002</td>\n",
              "      <td>176.725433</td>\n",
              "    </tr>\n",
              "  </tbody>\n",
              "</table>\n",
              "<p>106 rows × 2 columns</p>\n",
              "</div>"
            ],
            "text/plain": [
              "                 Close  Predictions\n",
              "Date                               \n",
              "2019-09-11  136.119995   138.059570\n",
              "2019-09-12  137.520004   137.976028\n",
              "2019-09-13  137.320007   137.935867\n",
              "2019-09-16  136.330002   137.908875\n",
              "2019-09-17  137.389999   137.821930\n",
              "...                ...          ...\n",
              "2020-02-05  179.899994   169.285522\n",
              "2020-02-06  183.630005   170.901688\n",
              "2020-02-07  183.889999   172.757858\n",
              "2020-02-10  188.699997   174.632080\n",
              "2020-02-11  184.440002   176.725433\n",
              "\n",
              "[106 rows x 2 columns]"
            ]
          },
          "metadata": {
            "tags": []
          },
          "execution_count": 13
        }
      ]
    },
    {
      "cell_type": "code",
      "metadata": {
        "id": "SNtoebiz2IxX",
        "colab_type": "code",
        "colab": {}
      },
      "source": [
        "#Get the quote\n",
        "apple_quote = web.DataReader('MSFT', data_source='yahoo', start='2012-01-01', end='2019-12-17')\n",
        "#Create a new dataframe\n",
        "new_df = apple_quote.filter(['Close'])\n",
        "#Get teh last 60 day closing price values and convert the dataframe to an array\n",
        "last_60_days = new_df[-60:].values\n",
        "#Scale the data to be values between 0 and 1\n",
        "last_60_days_scaled = scaler.transform(last_60_days)\n",
        "#Create an empty list\n",
        "X_test = []\n",
        "#Append teh past 60 days\n",
        "X_test.append(last_60_days_scaled)\n",
        "#Convert the X_test data set to a numpy array\n",
        "X_test = np.array(X_test)\n",
        "#Reshape the data\n",
        "X_test = np.reshape(X_test, (X_test.shape[0], X_test.shape[1], 1))\n",
        "#Get the predicted scaled price\n",
        "pred_price = model.predict(X_test)\n",
        "#undo the scaling \n",
        "pred_price = scaler.inverse_transform(pred_price)\n",
        "print(pred_price)\n",
        "\n",
        "#Get the quote\n",
        "apple_quote2 = web.DataReader('AAPL', data_source='yahoo', start='2019-12-18', end='2019-12-18')\n",
        "print(apple_quote2['Close'])"
      ],
      "execution_count": 0,
      "outputs": []
    },
    {
      "cell_type": "markdown",
      "metadata": {
        "colab_type": "text",
        "id": "qTXOGdaz4wy0"
      },
      "source": [
        "# Richer syntax highlighting\n",
        "\n",
        "Improved support for nested languages:\n",
        "\n",
        "```notebook-python\n",
        "df = pd.io.gbq.read_gbq('''\n",
        "  SELECT \n",
        "    REGEXP_EXTRACT(name, '[a-zA-Z]+'),\n",
        "    SUM(number) as count\n",
        "  FROM `bigquery-public-data.usa_names.usa_1910_2013`\n",
        "  WHERE state = 'TX'\n",
        "  GROUP BY name\n",
        "  ORDER BY count DESC\n",
        "  LIMIT 100\n",
        "''')\n",
        "```"
      ]
    }
  ]
}